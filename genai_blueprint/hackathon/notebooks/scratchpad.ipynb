{
 "cells": [
  {
   "cell_type": "code",
   "execution_count": null,
   "id": "a516422a",
   "metadata": {},
   "outputs": [],
   "source": [
    "%load_ext autoreload\n",
    "%autoreload 2\n",
    "%reset -f\n",
    "from devtools import debug  # noqa: F401  # noqa: F811\n",
    "from dotenv import load_dotenv\n",
    "from rich import print  # noqa: F401\n",
    "\n",
    "assert load_dotenv(verbose=True)"
   ]
  },
  {
   "cell_type": "code",
   "execution_count": null,
   "id": "c1051bcb",
   "metadata": {},
   "outputs": [
    {
     "data": {
      "text/html": [
       "<pre style=\"white-space:pre;overflow-x:auto;line-height:normal;font-family:Menlo,'DejaVu Sans Mono',consolas,'Courier New',monospace\"><span style=\"font-weight: bold\">[</span>\n",
       "    <span style=\"color: #008000; text-decoration-color: #008000\">'EXEMPLE_DE_CONTRAT_-_Bpifrance_-_2021_-_AO_Accueil_physique_et_telephonique_-_Contrat.json'</span>,\n",
       "    <span style=\"color: #008000; text-decoration-color: #008000\">'EXEMPLE_DE_CONTRAT_-_EAS-PR_4.DOC.json'</span>,\n",
       "    <span style=\"color: #008000; text-decoration-color: #008000\">'EXEMPLE_DE_CONTRAT_2_cega1l-1.json'</span>,\n",
       "    <span style=\"color: #008000; text-decoration-color: #008000\">'EXEMPLE_DE_CONTRAT_3_-_102024-UBIKA-Conditions-Generales-de-Licence.json'</span>,\n",
       "    <span style=\"color: #008000; text-decoration-color: #008000\">'EXEMPLE_DE_CONTRAT_4_-_2024.03.06-MOVECK-Contrat-de-Licence-de-logiciel.json'</span>,\n",
       "    <span style=\"color: #008000; text-decoration-color: #008000\">'EXEMPLE_DE_CONTRAT_6_-_CGV_Solutions_HEBERGEUR.json'</span>,\n",
       "    <span style=\"color: #008000; text-decoration-color: #008000\">'EXEMPLE_DE_CONTRAT_8_-_CGV-et-Particulieres-FIMAC.json'</span>,\n",
       "    <span style=\"color: #008000; text-decoration-color: #008000\">'EXEMPLE_TEMPLATE_9_ORACLE_Cloud_CSA_Online_v062223_FR_FRA.json'</span>,\n",
       "    <span style=\"color: #008000; text-decoration-color: #008000\">'for_test.json'</span>\n",
       "<span style=\"font-weight: bold\">]</span>\n",
       "</pre>\n"
      ],
      "text/plain": [
       "\u001b[1m[\u001b[0m\n",
       "    \u001b[32m'EXEMPLE_DE_CONTRAT_-_Bpifrance_-_2021_-_AO_Accueil_physique_et_telephonique_-_Contrat.json'\u001b[0m,\n",
       "    \u001b[32m'EXEMPLE_DE_CONTRAT_-_EAS-PR_4.DOC.json'\u001b[0m,\n",
       "    \u001b[32m'EXEMPLE_DE_CONTRAT_2_cega1l-1.json'\u001b[0m,\n",
       "    \u001b[32m'EXEMPLE_DE_CONTRAT_3_-_102024-UBIKA-Conditions-Generales-de-Licence.json'\u001b[0m,\n",
       "    \u001b[32m'EXEMPLE_DE_CONTRAT_4_-_2024.03.06-MOVECK-Contrat-de-Licence-de-logiciel.json'\u001b[0m,\n",
       "    \u001b[32m'EXEMPLE_DE_CONTRAT_6_-_CGV_Solutions_HEBERGEUR.json'\u001b[0m,\n",
       "    \u001b[32m'EXEMPLE_DE_CONTRAT_8_-_CGV-et-Particulieres-FIMAC.json'\u001b[0m,\n",
       "    \u001b[32m'EXEMPLE_TEMPLATE_9_ORACLE_Cloud_CSA_Online_v062223_FR_FRA.json'\u001b[0m,\n",
       "    \u001b[32m'for_test.json'\u001b[0m\n",
       "\u001b[1m]\u001b[0m\n"
      ]
     },
     "metadata": {},
     "output_type": "display_data"
    },
    {
     "name": "stderr",
     "output_type": "stream",
     "text": [
      "\u001b[32m2025-10-08 15:25:57.269\u001b[0m | \u001b[34m\u001b[1mDEBUG   \u001b[0m | \u001b[36mgenai_tk.utils.pydantic.kv_store\u001b[0m:\u001b[36mload_object\u001b[0m:\u001b[36m120\u001b[0m - \u001b[34m\u001b[1mread 'LegalContractAnalysis/EXEMPLE_DE_CONTRAT_-_Bpifrance_-_2021_-_AO_Accueil_physique_et_telephonique_-_Contrat.json' from KV store\u001b[0m\n",
      "\u001b[32m2025-10-08 15:25:57.270\u001b[0m | \u001b[34m\u001b[1mDEBUG   \u001b[0m | \u001b[36mgenai_tk.utils.pydantic.kv_store\u001b[0m:\u001b[36mload_object\u001b[0m:\u001b[36m122\u001b[0m - \u001b[34m\u001b[1mstored_data: {'content': {'id': 'd7f3c9a2‑9b4e‑4a6d‑a2c1‑f5e8b9d3c0a1', 'documentTitle': 'Specification of Requirements – Provision of ESN Engineering Advisory Services (Contract\\u202fRef\\u202fProject_2832)', 'documentType': 'Contract Specification / Call‑Off Schedule', 'documentDate': '2024‑06‑06', 'parties': 'Home Office (the Authority) – Emergency Services Mobile Communications Programme (ESMCP) and the appointed Supplier (unnamed in the document).', 'summary': 'The Home Office is procuring professional ESN (Emergency Services Network) engineering advisory services for the Emergency Services Mobile Communications Programme.  The Supplier must deliver technical design assurance, strategic planning, service‑management, product‑management, systems‑integration, testing, innovation, deployment and onboarding support across the full ESN portfolio (core network, BSS/OSS, WAN, gateways, devices, MCX services, air‑to‑ground, etc.).  The contract runs for an initial two‑year term (starting no later than 01/01/2025) with one optional twelve‑month extension.  Deliverables are captured in work‑stream‑specific Statements of Works and are measured against detailed KPIs and service‑level targets; severe breaches trigger service‑credit penalties.  The contract also embeds social‑value reporting, GDPR/UK‑GDPR compliance, insurance, confidentiality, and a mandatory exit‑plan within 30\\u202fdays of award.', 'keyTerms': 'ESN, ESMCP, Technical Design Assurance (TDA), Service Management, MCX, BCDR, KPI, Service Credit, Social Value Theme\\u202f2 &\\u202f4, UKGDPR, CTC/SC Clearance, Insurance limits, TUPE, Exit Plan, Sub‑contractors, RAF, DDaT, PPN‑06/20, MAC2.2, MAC5.1, etc.', 'risks': [{'id': 'R‑001', 'category': 'Performance', 'severity': 'High', 'description': 'Failure to meet KPI service‑level thresholds (Good/Minor/Serious/Severe) may trigger service‑credit deductions, affect programme scheduling and could cause reputational damage.', 'contractReference': 'Project_2832', 'clauseReference': '15 – Service levels and performance', 'mitigation': 'Implement robust monitoring, weekly KPI tracking, and rapid rectification plans (5\\u202fworking‑day turnaround).', 'owner': 'Supplier – Service Delivery Lead'}, {'id': 'R‑002', 'category': 'Regulatory', 'severity': 'Medium', 'description': 'Non‑compliance with UKGDPR, Public Sector Equality Duty, and other statutory policies could result in enforcement action and contract termination.', 'contractReference': 'Project_2832', 'clauseReference': '13 – The AUTHORITY’ Policies / 14 – Service improvement / 19 – Tupe', 'mitigation': 'Appoint a Data‑Protection Officer, conduct GDPR impact assessments, and embed equality‑impact monitoring in reporting.', 'owner': 'Supplier – Compliance Officer'}, {'id': 'R‑003', 'category': 'Liability', 'severity': 'High', 'description': 'Insufficient professional indemnity, public‑product or employer’s liability insurance could expose the Supplier to uncapped claims.', 'contractReference': 'Project_2832', 'clauseReference': '17 – INSURANCE REQUIREMENTS', 'mitigation': 'Maintain the minimum insurance cover (Employer £5\\u202fM, Public/Products £5\\u202fM, PI £2\\u202fM) and provide certificates before contract signature.', 'owner': 'Supplier – Finance/Legal'}, {'id': 'R‑004', 'category': 'Confidentiality', 'severity': 'Medium', 'description': 'Breach of Home Office Confidentiality Policy or mishandling of classified data could lead to security incidents and contractual penalties.', 'contractReference': 'Project_2832', 'clauseReference': '16 – Ways of working, CONFIDENTIALITY & impartiality', 'mitigation': 'Enforce CTC/SC clearance for all personnel, use only Home Office‑issued laptops, and store data in Home Office repositories.', 'owner': 'Supplier – Security Lead'}, {'id': 'R‑005', 'category': 'Financial', 'severity': 'Medium', 'description': 'Late or disputed invoice payments may affect cash‑flow and could trigger penalties or suspension of services.', 'contractReference': 'Project_2832', 'clauseReference': '18 – payment AND INVOICING', 'mitigation': 'Provide detailed elemental breakdown with each invoice; adhere to 30‑day payment terms; monitor invoice status weekly.', 'owner': 'Supplier – Finance'}, {'id': 'R‑006', 'category': 'Subcontracting', 'severity': 'Low', 'description': 'Use of unauthorized sub‑contractors could breach the clause on “Other ESN supplier” responsibilities and lead to non‑performance.', 'contractReference': 'Project_2832', 'clauseReference': '12 – The AUTHORITY’ Policies (sub‑contractor approvals) / 6 – scope of requirement (definition 12)', 'mitigation': 'Obtain Authority written consent for any subcontractor and include flow‑down clauses matching the main contract.', 'owner': 'Supplier – Sub‑contractor Manager'}, {'id': 'R‑007', 'category': 'Termination', 'severity': 'Medium', 'description': 'Absence of a detailed exit plan may cause disruption at contract expiry or extension, risking service continuity.', 'contractReference': 'Project_2832', 'clauseReference': '20 – Exit planning & management', 'mitigation': 'Deliver draft Exit Plan within 30\\u202fdays of award; maintain live update logs; align with Authority’s transition governance.', 'owner': 'Supplier – Programme Manager'}], 'financialRisk': {'paymentTerms': 'Milestone‑based fixed‑price statements of work, invoiced in arrears; payments due 30\\u202fdays after invoice receipt.', 'penaltyClauses': 'Service credits applied for any KPI measured as ‘Severe’ (≤94\\u202f%); rectification plans required for ‘Serious’ or repeated ‘Minor’ performance.', 'priceEscalation': None, 'currencyRisk': None, 'latePaymentPenalties': 'Not explicitly stated; however, late payment could lead to dispute and possible suspension of services.', 'paymentSchedule': 'Initial statement of works at award; subsequent SoWs updated every six months with associated milestones.'}, 'intellectualPropertyRisk': None, 'liabilityRisk': None, 'confidentialityRisk': {'confidentialInformation': 'All recorded data, design artefacts, and project documentation classified as confidential under Home Office policy.', 'dataProcessing': 'Data must be stored in Home Office repositories; use of Home Office‑issued laptops only.', 'dataBreachNotification': 'Supplier must immediately notify the Authority of any breach per Home Office confidentiality policy.', 'dataRetention': 'Retention periods governed by Home Office and UKGDPR requirements (not expressly defined).', 'securityMeasures': 'CTC clearance minimum; SC clearance where applicable; adherence to Home Office Confidentiality Policy; secure IT environment.', 'thirdPartyAccess': 'Only approved sub‑contractors with Authority consent may access confidential data.'}, 'regulatoryRisk': None, 'performanceRisk': {'serviceLevels': 'KPIs defined in clause\\u202f15 with status levels Good/Minor/Serious/Severe and associated percentage targets.', 'performanceMetrics': 'On‑time delivery of SoWs, document reviews, MI reports, Exit Plan, BCDR Plan, and social‑value reports.', 'monitoring': 'Monthly service meetings, KPI scorecards, and bi‑weekly RAID log updates.', 'acceptanceCriteria': 'Delivery within agreed dates per KPI status; rectification plans within 5\\u202fworking days for Serious/Minor breaches.', 'serviceCredits': 'Applied when KPI recorded as Severe (≤94\\u202f%); continue until performance restored to Good.', 'maintenanceObligations': 'Ongoing service‑management design, support for transition, and continuous improvement activities.'}, 'terminationRisk': {'terminationConditions': 'Contract may be terminated for convenience (TUPE not applicable) or for cause following breach of material obligations.', 'noticePeriod': 'Not expressly defined; standard practice under call‑off schedule to provide written notice.', 'terminationForConvenience': 'Authority may not apply TUPE; likely a 30‑day notice for convenience.', 'terminationForCause': 'Material breach of performance, confidentiality, or regulatory compliance may trigger termination.', 'postTerminationObligations': 'Delivery of final exit plan, transfer of knowledge, return of confidential data, and settlement of outstanding invoices.', 'exitPlan': 'Draft Exit Plan to be submitted within 30\\u202fdays of contract award (clause\\u202f20).'}, 'sanctionsRisk': None, 'forceMajeureRisk': None, 'subcontractingRisk': {'subcontractorApproval': 'All sub‑contractors must be approved by the Authority; defined in definition\\u202f12 and related clauses.', 'liabilityForSubcontractors': 'Supplier remains liable for the acts of its sub‑contractors.', 'changeOfSubcontractor': 'Any change requires Authority consent.', 'assignmentRestrictions': 'No assignment without prior written Authority approval.', 'flowDownClauses': 'Supplier must flow‑down the same obligations (KPIs, confidentiality, security clearances, insurance) to any sub‑contractor.'}}, 'metadata': {'fingerprint': 'b15ebfd88ba90efa', 'model_fingerprint': 'b98236b859267100'}}\u001b[0m\n"
     ]
    }
   ],
   "source": [
    "from genai_tk.utils.pydantic.kv_store import PydanticStore\n",
    "\n",
    "from genai_blueprint.hackathon.baml_client.types import ExtractedContractInformation\n",
    "\n",
    "contract_store = PydanticStore(kvstore_id=\"file\", model=ExtractedContractInformation)\n",
    "\n",
    "list_contracts = list(contract_store.get_kv_store().yield_keys())\n",
    "print(list_contracts)\n",
    "\n",
    "# Remove .json extension from the key (it's already encoded)\n",
    "first_key = list_contracts[0]\n",
    "if first_key.endswith(\".json\"):\n",
    "    contract0_key = first_key[:-5]  # Remove .json extension\n",
    "else:\n",
    "    contract0_key = first_key\n",
    "\n",
    "contract_0 = contract_store.load_object(contract0_key)\n"
   ]
  },
  {
   "cell_type": "code",
   "execution_count": 4,
   "id": "b15c2d05",
   "metadata": {},
   "outputs": [
    {
     "name": "stdout",
     "output_type": "stream",
     "text": [
      "2025-10-08T15:26:00.354 [BAML \u001b[92mINFO\u001b[0m] \u001b[35mFunction ResumeRisk\u001b[0m:\n",
      "    \u001b[33mClient: GptOss120 (openai/gpt-oss-120b) - 3025ms. StopReason: stop. Tokens(in/out): 159/166\u001b[0m\n",
      "    \u001b[34m---PROMPT---\u001b[0m\n",
      "    \u001b[2m\u001b[43msystem: \u001b[0m\u001b[2mGenerate a easy to understand summerize of the following structured document, \n",
      "      that follows a given schema.\n",
      "    - Be concise and well-structured with sections (Title, Key Facts, Highlights, Anomalies).\n",
      "    - Preserve important numeric values, entities, and dates.\n",
      "    - Identify common patterns and notable outliers.\n",
      "    - Generate output format in Markdown.\n",
      "    \n",
      "      Document:\n",
      "      Fourniture de prestation de conseil\n",
      "      ---- \n",
      "      Schema:\n",
      "    \n",
      "      \n",
      "    \n",
      "      Markdown:\n",
      "    \u001b[0m\n",
      "    \u001b[34m---LLM REPLY---\u001b[0m\n",
      "    \u001b[2m**Title**  \n",
      "    Fourniture de prestation de conseil  \n",
      "    \n",
      "    **Key Facts**  \n",
      "    - No additional details, figures, entities, or dates were provided.  \n",
      "    \n",
      "    **Highlights**  \n",
      "    - The document refers solely to the provision of "
     ]
    },
    {
     "data": {
      "text/html": [
       "<pre style=\"white-space:pre;overflow-x:auto;line-height:normal;font-family:Menlo,'DejaVu Sans Mono',consolas,'Courier New',monospace\">**Title**  \n",
       "Fourniture de prestation de conseil  \n",
       "\n",
       "**Key Facts**  \n",
       "- No additional details, figures, entities, or dates were provided.  \n",
       "\n",
       "**Highlights**  \n",
       "- The document refers solely to the provision of consulting services.  \n",
       "\n",
       "**Anomalies**  \n",
       "- Absence of quantitative data, dates, or contextual information that would normally populate a summary.\n",
       "</pre>\n"
      ],
      "text/plain": [
       "**Title**  \n",
       "Fourniture de prestation de conseil  \n",
       "\n",
       "**Key Facts**  \n",
       "- No additional details, figures, entities, or dates were provided.  \n",
       "\n",
       "**Highlights**  \n",
       "- The document refers solely to the provision of consulting services.  \n",
       "\n",
       "**Anomalies**  \n",
       "- Absence of quantitative data, dates, or contextual information that would normally populate a summary.\n"
      ]
     },
     "metadata": {},
     "output_type": "display_data"
    },
    {
     "name": "stdout",
     "output_type": "stream",
     "text": [
      "consulting services.  \n",
      "    \n",
      "    **Anomalies**  \n",
      "    - Absence of quantitative data, dates, or contextual information that would normally populate a summary.\u001b[0m\n",
      "    \u001b[34m---Parsed Response (string)---\u001b[0m\n",
      "    \"**Title**  \\nFourniture de prestation de conseil  \\n\\n**Key Facts**  \\n- No additional details, figures, entities, or dates were provided.  \\n\\n**Highlights**  \\n- The document refers solely to the provision of consulting services.  \\n\\n**Anomalies**  \\n- Absence of quantitative data, dates, or contextual information that would normally populate a summary.\"\n"
     ]
    }
   ],
   "source": [
    "from genai_blueprint.hackathon.baml_client import b\n",
    "\n",
    "fake = b.ResumeRisk(\"Fourniture de prestation de conseil\", {})\n",
    "print(fake)"
   ]
  },
  {
   "cell_type": "code",
   "execution_count": null,
   "id": "f3211d8c",
   "metadata": {},
   "outputs": [],
   "source": []
  }
 ],
 "metadata": {
  "kernelspec": {
   "display_name": "genai-bp (3.12.3)",
   "language": "python",
   "name": "python3"
  },
  "language_info": {
   "codemirror_mode": {
    "name": "ipython",
    "version": 3
   },
   "file_extension": ".py",
   "mimetype": "text/x-python",
   "name": "python",
   "nbconvert_exporter": "python",
   "pygments_lexer": "ipython3",
   "version": "3.12.3"
  }
 },
 "nbformat": 4,
 "nbformat_minor": 5
}

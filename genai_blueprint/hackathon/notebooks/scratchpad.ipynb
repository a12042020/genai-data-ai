{
 "cells": [
  {
   "cell_type": "code",
   "execution_count": null,
   "id": "a516422a",
   "metadata": {},
   "outputs": [],
   "source": [
    "%load_ext autoreload\n",
    "%autoreload 2\n",
    "%reset -f\n",
    "from devtools import debug  # noqa: F401  # noqa: F811\n",
    "from dotenv import load_dotenv\n",
    "from rich import print  # noqa: F401\n",
    "\n",
    "assert load_dotenv(verbose=True)"
   ]
  },
  {
   "cell_type": "code",
   "execution_count": null,
   "id": "c1051bcb",
   "metadata": {},
   "outputs": [],
   "source": [
    "from genai_tk.utils.pydantic.kv_store import PydanticStore\n",
    "from genai_blueprint.hackathon.baml_client.types import LegalContractAnalysis\n",
    "\n",
    "contract_store = PydanticStore(kvstore_id=\"file\", model=LegalContractAnalysis)\n",
    "\n",
    "list_contracts = list(contract_store.get_kv_store().yield_keys())\n",
    "print(list_contracts)\n",
    "\n",
    "# Remove .json extension from the key (it's already encoded)\n",
    "first_key = list_contracts[0]\n",
    "if first_key.endswith(\".json\"):\n",
    "    contract0_key = first_key[:-5]  # Remove .json extension\n",
    "else:\n",
    "    contract0_key = first_key\n",
    "\n",
    "contract_0 = contract_store.load_object(contract0_key)\n",
    "print(contract_0)"
   ]
  },
  {
   "cell_type": "code",
   "execution_count": null,
   "id": "f3211d8c",
   "metadata": {},
   "outputs": [],
   "source": [
    "a"
   ]
  }
 ],
 "metadata": {
  "kernelspec": {
   "display_name": "genai-bp (3.12.3)",
   "language": "python",
   "name": "python3"
  },
  "language_info": {
   "codemirror_mode": {
    "name": "ipython",
    "version": 3
   },
   "file_extension": ".py",
   "mimetype": "text/x-python",
   "name": "python",
   "nbconvert_exporter": "python",
   "pygments_lexer": "ipython3",
   "version": "3.12.3"
  }
 },
 "nbformat": 4,
 "nbformat_minor": 5
}

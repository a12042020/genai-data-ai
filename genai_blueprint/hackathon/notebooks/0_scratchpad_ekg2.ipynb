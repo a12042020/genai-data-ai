{
    "cells": [
        {
            "cell_type": "code",
            "execution_count": 1,
            "metadata": {},
            "outputs": [],
            "source": [
                "# A default setup cell.\n",
                "# It imports environment variables, define 'devtools.debug\" as a buildins, set PYTHONPATH, and code auto-reload\n",
                "# Copy it in other Notebooks\n",
                "\n",
                "%load_ext autoreload\n",
                "%autoreload 2\n",
                "%reset -f\n",
                "\n",
                "from devtools import debug  # noqa: F401  # noqa: F811\n",
                "from dotenv import load_dotenv\n",
                "from rich import print  # noqa: F401\n",
                "\n",
                "assert load_dotenv(verbose=True)"
            ]
        },
        {
            "cell_type": "code",
            "execution_count": 12,
            "metadata": {},
            "outputs": [
                {
                    "name": "stdout",
                    "output_type": "stream",
                    "text": [
                        "/home/tcl/prj/genai-data-ai/config\n",
                        "{'default': 'gpt_oss120_openrouter', 'fake': 'parrot_local_fake', 'fast': 'llama31_8_groq', 'coder': 'qwen25_coder32_openrouter'}\n",
                        "/home/tcl/OneDrive/Team Hackathon DATA&AI - Team Data AI Kackathon\n"
                    ]
                }
            ],
            "source": [
                "from pathlib import Path\n",
                "\n",
                "\n",
                "p = Path(\"/mnt/c/Users/A184094/OneDrive - ATOS/Team Hackathon DATA&AI - Team Data AI Kackathon\")\n",
                "\n",
                "p.exists()\n",
                "\n",
                "from genai_tk.utils.config_mngr import global_config, global_config_reload\n",
                "\n",
                "global_config_reload()\n",
                "print(global_config().get(\"paths.config\"))\n",
                "print(global_config().get(\"llm.models\"))\n",
                "\n",
                "print(global_config().get(\"paths.team_sp\"))\n",
                "\n",
                "p = global_config().get_dir_path(\"paths.team_sp\")\n",
                "assert p.exists()\n",
                "p = global_config().get_dir_path(\"paths.hackathon_sp\")\n",
                "assert p.exists()\n"
            ]
        }
    ],
    "metadata": {
        "kernelspec": {
            "display_name": "genai-bp (3.12.3)",
            "language": "python",
            "name": "python3"
        },
        "language_info": {
            "codemirror_mode": {
                "name": "ipython",
                "version": 3
            },
            "file_extension": ".py",
            "mimetype": "text/x-python",
            "name": "python",
            "nbconvert_exporter": "python",
            "pygments_lexer": "ipython3",
            "version": "3.12.3"
        }
    },
    "nbformat": 4,
    "nbformat_minor": 2
}
